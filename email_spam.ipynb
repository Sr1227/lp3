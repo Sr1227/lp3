{
  "nbformat": 4,
  "nbformat_minor": 0,
  "metadata": {
    "colab": {
      "provenance": [],
      "authorship_tag": "ABX9TyM1t5oubC/mPBkHWxNOs3SL",
      "include_colab_link": true
    },
    "kernelspec": {
      "name": "python3",
      "display_name": "Python 3"
    },
    "language_info": {
      "name": "python"
    }
  },
  "cells": [
    {
      "cell_type": "markdown",
      "metadata": {
        "id": "view-in-github",
        "colab_type": "text"
      },
      "source": [
        "<a href=\"https://colab.research.google.com/github/Mansi-Shinde/first-repo/blob/master/email_spam.ipynb\" target=\"_parent\"><img src=\"https://colab.research.google.com/assets/colab-badge.svg\" alt=\"Open In Colab\"/></a>"
      ]
    },
    {
      "cell_type": "code",
      "execution_count": null,
      "metadata": {
        "id": "rzzbikFUbqZG"
      },
      "outputs": [],
      "source": [
        "import pandas as pd\n",
        "import numpy as np\n",
        "from sklearn.model_selection import train_test_split\n",
        "from sklearn.neighbors import KNeighborsClassifier\n",
        "from sklearn.svm import SVC\n",
        "from sklearn.metrics import confusion_matrix, classification_report,accuracy_score"
      ]
    },
    {
      "cell_type": "code",
      "source": [
        "df=pd.read_csv(\"emails.csv\") #Reading the Dataset\n",
        "df.head()"
      ],
      "metadata": {
        "id": "G30MbRKDb2Iq"
      },
      "execution_count": null,
      "outputs": []
    },
    {
      "cell_type": "code",
      "source": [
        "df.drop(columns=['Email No.'], inplace=True) #Dropping Email No. as it is irrelevant.\n",
        "df.head()"
      ],
      "metadata": {
        "id": "n6wyi_YCb7GL"
      },
      "execution_count": null,
      "outputs": []
    },
    {
      "cell_type": "code",
      "source": [
        "#Splitting the Dataset\n",
        "X=df.iloc[:, :df.shape[1]-1]\n",
        "Y=df.iloc[:, -1]\n",
        "X_train, X_test, Y_train, Y_test=train_test_split(X, Y, test_size=0.20, random_state=8) "
      ],
      "metadata": {
        "id": "qdenqt9Bb-Ax"
      },
      "execution_count": null,
      "outputs": []
    },
    {
      "cell_type": "code",
      "source": [
        "def apply_model(model):#Model to print the scores of various models\n",
        "    model.fit(X_train,Y_train)\n",
        "    print(\"Training score = \",model.score(X_train,Y_train))\n",
        "    print(\"Testing score = \",model.score(X_test,Y_test))\n",
        "    print(\"Accuracy = \",model.score(X_test,Y_test))\n",
        "    Y_pred = model.predict(X_test)\n",
        "    print(\"Predicted values:\\n\",Y_pred)\n",
        "    print(\"Confusion Matrix:\\n\",confusion_matrix(Y_test,Y_pred))\n",
        "    print(\"Classification Report:\\n\",classification_report(Y_test,Y_pred))"
      ],
      "metadata": {
        "id": "24nSw1m3cDVC"
      },
      "execution_count": null,
      "outputs": []
    },
    {
      "cell_type": "code",
      "source": [
        "knn = KNeighborsClassifier(n_neighbors=17) #KNN Model\n",
        "apply_model(knn)"
      ],
      "metadata": {
        "id": "bGOczxkIcHvJ"
      },
      "execution_count": null,
      "outputs": []
    },
    {
      "cell_type": "code",
      "source": [
        "svm = SVC(kernel='linear',random_state=3,max_iter=10000) #SVM Model\n",
        "apply_model(svm)"
      ],
      "metadata": {
        "id": "gWjxOeWLcJE_"
      },
      "execution_count": null,
      "outputs": []
    }
  ]
}