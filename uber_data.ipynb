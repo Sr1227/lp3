{
  "nbformat": 4,
  "nbformat_minor": 0,
  "metadata": {
    "colab": {
      "provenance": [],
      "authorship_tag": "ABX9TyN5lLNlpsFnUctmSx3Y8JsO",
      "include_colab_link": true
    },
    "kernelspec": {
      "name": "python3",
      "display_name": "Python 3"
    },
    "language_info": {
      "name": "python"
    }
  },
  "cells": [
    {
      "cell_type": "markdown",
      "metadata": {
        "id": "view-in-github",
        "colab_type": "text"
      },
      "source": [
        "<a href=\"https://colab.research.google.com/github/Mansi-Shinde/first-repo/blob/master/uber_data.ipynb\" target=\"_parent\"><img src=\"https://colab.research.google.com/assets/colab-badge.svg\" alt=\"Open In Colab\"/></a>"
      ]
    },
    {
      "cell_type": "code",
      "execution_count": null,
      "metadata": {
        "id": "0Azd229eao70"
      },
      "outputs": [],
      "source": [
        "# LP3 Group B Assignment 1\n",
        "\n",
        "## Predict the price of the Uber ride from a given pickup point to the agreed drop-off location.\n",
        "\n",
        "### Perform following tasks:\n",
        "1. Pre-process the dataset.\n",
        "2. Identify outliers.\n",
        "3. Check the correlation.\n",
        "4. Implement linear regression and random forest regression models.\n",
        "5. Evaluate the models and compare their respective scores like R2, RMSE, etc.\n",
        "\n",
        "Dataset link: https://www.kaggle.com/datasets/yasserh/uber-fares-dataset"
      ]
    },
    {
      "cell_type": "code",
      "source": [
        "#Importing required libraries\n",
        "import matplotlib.pyplot as plt\n",
        "import numpy as np\n",
        "import pandas as pd\n",
        "from sklearn.preprocessing import StandardScaler\n",
        "from sklearn.model_selection import train_test_split\n",
        "from sklearn.linear_model import LinearRegression\n",
        "from sklearn.ensemble import RandomForestRegressor\n",
        "from sklearn import metrics"
      ],
      "metadata": {
        "id": "cNf3DyAma1Ni"
      },
      "execution_count": null,
      "outputs": []
    },
    {
      "cell_type": "code",
      "source": [
        "df = pd.read_csv('uber.csv') #Reading CSV file\n",
        "df.head()"
      ],
      "metadata": {
        "id": "eILDeI-_a35I"
      },
      "execution_count": null,
      "outputs": []
    },
    {
      "cell_type": "code",
      "source": [
        "df.dtypes #Checking Datatypes."
      ],
      "metadata": {
        "id": "wtIR7Abwa8J9"
      },
      "execution_count": null,
      "outputs": []
    },
    {
      "cell_type": "code",
      "source": [
        "df.isnull().sum() #Checking for Null Values."
      ],
      "metadata": {
        "id": "WgwPPVmAbAvX"
      },
      "execution_count": null,
      "outputs": []
    },
    {
      "cell_type": "code",
      "source": [
        "df.drop(['Unnamed: 0','key'],axis=1,inplace=True) #Dropping first coloumnn as it is irrelevant.\n",
        "df.dropna(axis=0,inplace=True) #Dropping the rows with null values.\n",
        "df.head()"
      ],
      "metadata": {
        "id": "Gw5nz3NHbDnY"
      },
      "execution_count": null,
      "outputs": []
    },
    {
      "cell_type": "code",
      "source": [
        "def haversine (lon_1, lon_2, lat_1, lat_2): #Function to find the distance using the coordinates\n",
        "    lon_1, lon_2, lat_1, lat_2 = map(np.radians, [lon_1, lon_2, lat_1, lat_2]) #Converting Degrees to Radians\n",
        "    diff_lon = lon_2 - lon_1\n",
        "    diff_lat = lat_2 - lat_1\n",
        "    distance = 2 * 6371 * np.arcsin(np.sqrt(np.sin(diff_lat/2.0)**2+np.cos(lat_1)*np.cos(lat_2)*np.sin(diff_lon/2.0)**2)) #Calculationg the Distance using Haversine Formula\n",
        "    return distance\n",
        "\n",
        "df['Distance']= haversine(df['pickup_longitude'],df['dropoff_longitude'],df['pickup_latitude'],df['dropoff_latitude'])\n",
        "df['Distance'] = df['Distance'].astype(float).round(2) #Rounding-off to 2 decimals\n",
        "df.head()"
      ],
      "metadata": {
        "id": "6mxLmLMmbEnj"
      },
      "execution_count": null,
      "outputs": []
    },
    {
      "cell_type": "code",
      "source": [
        "#Plotting a scatter plot to check for outliers.\n",
        "plt.scatter(df['Distance'], df['fare_amount'])\n",
        "plt.xlabel(\"Distance\")\n",
        "plt.ylabel(\"fare_amount\")"
      ],
      "metadata": {
        "id": "VmSr7z7IbIkN"
      },
      "execution_count": null,
      "outputs": []
    },
    {
      "cell_type": "code",
      "source": [
        "#Dealing with Outliers via removing rows with too large Distance and 0 or lesser distance.\n",
        "df.drop(df[df['Distance']>60].index, inplace=True)\n",
        "df.drop(df[df['Distance']==0].index, inplace=True)\n",
        "df.drop(df[df['Distance']<0].index, inplace=True)\n",
        "#Dealing with Outliers via removing rows with 0 or lesser fare amounts.\n",
        "df.drop(df[df['fare_amount']==0].index, inplace=True)\n",
        "df.drop(df[df['fare_amount']<0].index, inplace=True)\n",
        "#Dealing with Outliers via removing rows with non-plausible fare amounts and distance travelled.\n",
        "df.drop(df[df['Distance']>100].index, inplace=True)\n",
        "df.drop(df[df['fare_amount']>100].index, inplace=True)\n",
        "df.drop(df[(df['fare_amount']>100) & (df['Distance']<1)].index, inplace = True )\n",
        "df.drop(df[(df['fare_amount']<100) & (df['Distance']>100)].index, inplace = True )\n",
        "#Plotting a Scatter Plot to check for any more outliers and also to show correlation between Fare Amount and Distance.\n",
        "plt.scatter(df['Distance'], df['fare_amount'])\n",
        "plt.xlabel(\"Distance\")\n",
        "plt.ylabel(\"fare_amount\")"
      ],
      "metadata": {
        "id": "2Pzr62x-bMDB"
      },
      "execution_count": null,
      "outputs": []
    },
    {
      "cell_type": "code",
      "source": [
        "#Preprocessing the Data Using Standard Scaler in range of -1 to 1\n",
        "x = df['Distance'].values.reshape(-1, 1)        #Independent Variable\n",
        "y = df['fare_amount'].values.reshape(-1, 1)     #Dependent Variable\n",
        "std = StandardScaler()\n",
        "Y = std.fit_transform(y)\n",
        "X = std.fit_transform(x)\n",
        "#Splitting the data into training and testing set\n",
        "X_train, X_test, Y_train, Y_test = train_test_split(X, Y, test_size=0.2, random_state=1)"
      ],
      "metadata": {
        "id": "33tlAf0DbPlU"
      },
      "execution_count": null,
      "outputs": []
    },
    {
      "cell_type": "code",
      "source": [
        "def apply_model(model): #Model to print the metrics of the various prediction models\n",
        "    model.fit(X_train,Y_train)\n",
        "    print(\"Training score = \",model.score(X_train,Y_train))\n",
        "    print(\"Testing score = \",model.score(X_test,Y_test))\n",
        "    print(\"Accuracy = \",model.score(X_test,Y_test))\n",
        "    Y_pred = model.predict(X_test)\n",
        "    print(\"Predicted values:\\n\",Y_pred)\n",
        "    print(\"Mean Absolute Error =\", metrics.mean_absolute_error(Y_test, Y_pred))\n",
        "    print(\"Mean Squared Error =\", metrics.mean_squared_error(Y_test, Y_pred))\n",
        "    print(\"Root Mean Squared Error =\", np.sqrt(metrics.mean_squared_error(Y_test, Y_pred)))"
      ],
      "metadata": {
        "id": "2ty795D8bUur"
      },
      "execution_count": null,
      "outputs": []
    },
    {
      "cell_type": "code",
      "source": [
        "lr = LinearRegression()\n",
        "apply_model(lr)"
      ],
      "metadata": {
        "id": "SjP12XPebVpP"
      },
      "execution_count": null,
      "outputs": []
    },
    {
      "cell_type": "code",
      "source": [
        "#Random Forest Model\n",
        "rf = RandomForestRegressor(n_estimators=100, random_state=10)\n",
        "apply_model(rf)"
      ],
      "metadata": {
        "id": "xgAdWM0NbYSR"
      },
      "execution_count": null,
      "outputs": []
    },
    {
      "cell_type": "code",
      "source": [],
      "metadata": {
        "id": "O-aUV8JLbdGS"
      },
      "execution_count": null,
      "outputs": []
    },
    {
      "cell_type": "markdown",
      "source": [],
      "metadata": {
        "id": "zYUW4e7Ya09W"
      }
    }
  ]
}