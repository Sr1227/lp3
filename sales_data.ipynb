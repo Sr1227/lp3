{
  "nbformat": 4,
  "nbformat_minor": 0,
  "metadata": {
    "colab": {
      "provenance": [],
      "authorship_tag": "ABX9TyPNJf6Dm+kfKvOB2cuHwWWA",
      "include_colab_link": true
    },
    "kernelspec": {
      "name": "python3",
      "display_name": "Python 3"
    },
    "language_info": {
      "name": "python"
    }
  },
  "cells": [
    {
      "cell_type": "markdown",
      "metadata": {
        "id": "view-in-github",
        "colab_type": "text"
      },
      "source": [
        "<a href=\"https://colab.research.google.com/github/Mansi-Shinde/first-repo/blob/master/sales_data.ipynb\" target=\"_parent\"><img src=\"https://colab.research.google.com/assets/colab-badge.svg\" alt=\"Open In Colab\"/></a>"
      ]
    },
    {
      "cell_type": "code",
      "execution_count": null,
      "metadata": {
        "id": "_pW0oY2adWua"
      },
      "outputs": [],
      "source": [
        "#Importing the required libraries\n",
        "import pandas as pd\n",
        "import numpy as np\n",
        "import matplotlib.pyplot as plt\n",
        "import plotly.express as px\n",
        "import seaborn as sns\n",
        "from sklearn.preprocessing import StandardScaler\n",
        "from sklearn.cluster import KMeans"
      ]
    },
    {
      "cell_type": "code",
      "source": [
        "df = pd.read_csv('sales_data_sample.csv', encoding = 'unicode_escape') #Reading the csv file.\n",
        "df.head()"
      ],
      "metadata": {
        "id": "a6BJ-zUEdrnJ"
      },
      "execution_count": null,
      "outputs": []
    },
    {
      "cell_type": "code",
      "source": [
        "#Removing the coloumns which dont add value for the analysis.\n",
        "to_drop = ['PHONE','ADDRESSLINE1','ADDRESSLINE2','CITY','STATE','POSTALCODE','TERRITORY','CONTACTLASTNAME','CONTACTFIRSTNAME','CUSTOMERNAME','ORDERNUMBER','QTR_ID','ORDERDATE']\n",
        "df = df.drop(to_drop, axis=1)\n",
        "df.head()"
      ],
      "metadata": {
        "id": "ks2qLOOCduNH"
      },
      "execution_count": null,
      "outputs": []
    },
    {
      "cell_type": "code",
      "source": [
        "df.nunique() #Checking unique values."
      ],
      "metadata": {
        "id": "73eM71U2dzPd"
      },
      "execution_count": null,
      "outputs": []
    },
    {
      "cell_type": "code",
      "source": [
        "df.isnull().sum()"
      ],
      "metadata": {
        "id": "itRRR9OJd0sa"
      },
      "execution_count": null,
      "outputs": []
    },
    {
      "cell_type": "code",
      "source": [
        "#Encodning Categorical Variables for easier processing.\n",
        "status_dict = {'Shipped':1, 'Cancelled':2, 'On Hold':2, 'Disputed':2, 'In Process':0, 'Resolved':0}\n",
        "df['STATUS'].replace(status_dict, inplace=True)\n",
        "df['PRODUCTCODE'] = pd.Categorical(df['PRODUCTCODE']).codes\n",
        "df = pd.get_dummies(data=df, columns=['PRODUCTLINE', 'DEALSIZE', 'COUNTRY'])\n",
        "df.dtypes"
      ],
      "metadata": {
        "id": "yoCT9yOud3nf"
      },
      "execution_count": null,
      "outputs": []
    },
    {
      "cell_type": "code",
      "source": [
        "#Using Heatmaps to find links between the data\n",
        "plt.figure(figsize = (20, 20))\n",
        "corr_matrix = df.iloc[:, :10].corr()\n",
        "sns.heatmap(corr_matrix, annot=True);"
      ],
      "metadata": {
        "id": "8ki_TmJVd607"
      },
      "execution_count": null,
      "outputs": []
    },
    {
      "cell_type": "code",
      "source": [
        "#Finding correlation between variables using pairplots\n",
        "fig = px.scatter_matrix(df, dimensions=df.columns[:8], color='MONTH_ID') #Fill color by months\n",
        "fig.update_layout(title_text='Sales Data', width=1100, height=1100)\n",
        "fig.show()"
      ],
      "metadata": {
        "id": "Au6aGbr_d9r4"
      },
      "execution_count": null,
      "outputs": []
    },
    {
      "cell_type": "code",
      "source": [
        "# Scale the data\n",
        "std = StandardScaler()\n",
        "sdf = std.fit_transform(df)\n",
        "wcss = []\n",
        "for i in range(1,15):\n",
        "    km = KMeans(n_clusters=i)\n",
        "    km.fit(sdf)\n",
        "    wcss.append(km.inertia_) # intertia is the Sum of squared distances of samples to their closest cluster center (WCSS)\n",
        "\n",
        "plt.plot(wcss, marker='o', linestyle='--')\n",
        "plt.title('The Elbow Method (Finding right number of clusters)')\n",
        "plt.xlabel('Number of CLusters')\n",
        "plt.ylabel('WCSS')\n",
        "plt.show()"
      ],
      "metadata": {
        "id": "fxpJQsSqeCsU"
      },
      "execution_count": null,
      "outputs": []
    },
    {
      "cell_type": "code",
      "source": [
        "#Applying k-means with 5 clusters as the elbow seems to form at 5 clusters\n",
        "km = KMeans(n_clusters=5, random_state=1)\n",
        "km.fit(sdf)\n",
        "cluster_labels = km.labels_\n",
        "df = df.assign(Cluster=cluster_labels)\n",
        "df.head()"
      ],
      "metadata": {
        "id": "-IX0bziWeF3q"
      },
      "execution_count": null,
      "outputs": []
    },
    {
      "cell_type": "code",
      "source": [
        "df = df.groupby(['Cluster']).mean() #Grouping by Cluster\n",
        "df.head()"
      ],
      "metadata": {
        "id": "32qMAGSleGw9"
      },
      "execution_count": null,
      "outputs": []
    },
    {
      "cell_type": "code",
      "source": [
        "#Heatmap after Kmeans clustering\n",
        "plt.figure(figsize = (20, 20))\n",
        "corr_matrix = df.iloc[:, :8].corr()\n",
        "sns.heatmap(corr_matrix, annot=True);"
      ],
      "metadata": {
        "id": "uugAWgfoeK__"
      },
      "execution_count": null,
      "outputs": []
    }
  ]
}