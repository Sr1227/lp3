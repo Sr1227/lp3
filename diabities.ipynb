{
  "nbformat": 4,
  "nbformat_minor": 0,
  "metadata": {
    "colab": {
      "provenance": [],
      "authorship_tag": "ABX9TyMicDuBvruLsFlDbFa6ku0i",
      "include_colab_link": true
    },
    "kernelspec": {
      "name": "python3",
      "display_name": "Python 3"
    },
    "language_info": {
      "name": "python"
    }
  },
  "cells": [
    {
      "cell_type": "markdown",
      "metadata": {
        "id": "view-in-github",
        "colab_type": "text"
      },
      "source": [
        "<a href=\"https://colab.research.google.com/github/Mansi-Shinde/first-repo/blob/master/diabities.ipynb\" target=\"_parent\"><img src=\"https://colab.research.google.com/assets/colab-badge.svg\" alt=\"Open In Colab\"/></a>"
      ]
    },
    {
      "cell_type": "code",
      "execution_count": null,
      "metadata": {
        "id": "iPiSf-KTcxLv"
      },
      "outputs": [],
      "source": [
        "import pandas as pd\n",
        "import numpy as np\n",
        "from sklearn.model_selection import train_test_split\n",
        "from sklearn.neighbors import KNeighborsClassifier\n",
        "from sklearn.metrics import confusion_matrix, classification_report, accuracy_score"
      ]
    },
    {
      "cell_type": "code",
      "source": [
        "df=pd.read_csv(\"diabetes.csv\") #Reading the Dataset\n",
        "df.head()"
      ],
      "metadata": {
        "id": "yPpt_ke0c7o-"
      },
      "execution_count": null,
      "outputs": []
    },
    {
      "cell_type": "code",
      "source": [
        "df.dtypes"
      ],
      "metadata": {
        "id": "-X8es3zTdAhQ"
      },
      "execution_count": null,
      "outputs": []
    },
    {
      "cell_type": "code",
      "source": [
        "df[\"Glucose\"].replace(0,df[\"Glucose\"].mean(), inplace=True)\n",
        "df[\"BloodPressure\"].replace(0,df[\"BloodPressure\"].mean(), inplace=True)\n",
        "df[\"SkinThickness\"].replace(0,df[\"SkinThickness\"].mean(), inplace=True)\n",
        "df[\"Insulin\"].replace(0,df[\"Insulin\"].mean(), inplace=True)\n",
        "df[\"BMI\"].replace(0,df[\"BMI\"].mean(), inplace=True)\n",
        "df.head()"
      ],
      "metadata": {
        "id": "AqmMM8A-dBeO"
      },
      "execution_count": null,
      "outputs": []
    },
    {
      "cell_type": "code",
      "source": [
        "X = df.iloc[:, :8]\n",
        "Y = df.iloc[:, 8:]\n",
        "X_train, X_test, Y_train, Y_test = train_test_split(X,Y,test_size=0.20,random_state=0)"
      ],
      "metadata": {
        "id": "uutT4S0ydHN3"
      },
      "execution_count": null,
      "outputs": []
    },
    {
      "cell_type": "code",
      "source": [
        "def apply_model(model):#Model to print the scores of various models\n",
        "    model.fit(X_train,Y_train)\n",
        "    print(\"Training score = \",model.score(X_train,Y_train))\n",
        "    print(\"Testing score = \",model.score(X_test,Y_test))\n",
        "    print(\"Accuracy = \",model.score(X_test,Y_test))\n",
        "    Y_pred = model.predict(X_test)\n",
        "    print(\"Predicted values:\\n\",Y_pred)\n",
        "    print(\"Confusion Matrix:\\n\",confusion_matrix(Y_test,Y_pred))\n",
        "    print(\"Classification Report:\\n\",classification_report(Y_test,Y_pred))"
      ],
      "metadata": {
        "id": "mtDl9o8ydIDZ"
      },
      "execution_count": null,
      "outputs": []
    },
    {
      "cell_type": "code",
      "source": [
        "knn = KNeighborsClassifier(n_neighbors=5) #KNN Model\n",
        "apply_model(knn)"
      ],
      "metadata": {
        "id": "OgWguE1NdKWx"
      },
      "execution_count": null,
      "outputs": []
    },
    {
      "cell_type": "code",
      "source": [],
      "metadata": {
        "id": "6Aq2OxAldN2X"
      },
      "execution_count": null,
      "outputs": []
    }
  ]
}